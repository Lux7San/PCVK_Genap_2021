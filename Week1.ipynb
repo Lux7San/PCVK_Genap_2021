{
  "nbformat": 4,
  "nbformat_minor": 0,
  "metadata": {
    "colab": {
      "name": "Week1.ipynb",
      "provenance": [],
      "include_colab_link": true
    },
    "kernelspec": {
      "name": "python3",
      "display_name": "Python 3"
    }
  },
  "cells": [
    {
      "cell_type": "markdown",
      "metadata": {
        "id": "view-in-github",
        "colab_type": "text"
      },
      "source": [
        "<a href=\"https://colab.research.google.com/github/Lux7San/PCVK_Genap_2021/blob/main/Week1.ipynb\" target=\"_parent\"><img src=\"https://colab.research.google.com/assets/colab-badge.svg\" alt=\"Open In Colab\"/></a>"
      ]
    },
    {
      "cell_type": "markdown",
      "metadata": {
        "id": "MvU7IAuIVVzy"
      },
      "source": [
        "##***Langkah (Step) 1 :***\r\n",
        "\r\n",
        "\r\n"
      ]
    },
    {
      "cell_type": "code",
      "metadata": {
        "id": "vF-ptEQePQym"
      },
      "source": [
        "import numpy as np\r\n",
        "import pandas as pd\r\n",
        "import cv2 as cv\r\n",
        "from google.colab.patches import cv2_imshow\r\n",
        "from skimage import io\r\n",
        "from skimage import transform\r\n",
        "from PIL import Image\r\n",
        "import matplotlib.pylab as plt\r\n"
      ],
      "execution_count": 2,
      "outputs": []
    },
    {
      "cell_type": "markdown",
      "metadata": {
        "id": "3ZuKJInoWHOC"
      },
      "source": [
        "##***Langkah (Step) 2 :***"
      ]
    },
    {
      "cell_type": "code",
      "metadata": {
        "id": "bPf_7DIyWJdw",
        "outputId": "1083275a-165d-4b5a-d463-e80a6d89d892",
        "colab": {
          "base_uri": "https://localhost:8080/"
        }
      },
      "source": [
        "##mebuat lish untuk menyimpan urk untuk beberapa image\r\n",
        "\r\n",
        "urls = [\"https://iiif.lib.ncsu.edu/iiif/0052574/full/800,/0/default.jpg\",\r\n",
        "        \"https://iiif.lib.ncsu.edu/iiif/0016007/full/800,/0/default.jpg\",\r\n",
        "        \"https://placekitten.com/800/571\"]\r\n",
        "\r\n",
        "##baca dan tampilkan image \r\n",
        "##loop pada tiap beberapa image, beberapa image dapat di simpan dalam lish\r\n",
        "for url in urls:\r\n",
        "  image = io.imread(url)\r\n",
        "  image = cv.resize(image, (0,0), fx=0.5, fy=0.5)\r\n",
        "  image_2 = cv.cvtColor(image, cv.COLOR_BGR2RGB)\r\n",
        "  final_frame = cv.hconcat((image,image_2))\r\n",
        "  cv2_imshow = (final_frame)\r\n",
        "  print('\\n')\r\n"
      ],
      "execution_count": 8,
      "outputs": [
        {
          "output_type": "stream",
          "text": [
            "\n",
            "\n",
            "\n",
            "\n",
            "\n",
            "\n"
          ],
          "name": "stdout"
        }
      ]
    }
  ]
}